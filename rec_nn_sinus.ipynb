{
 "cells": [
  {
   "cell_type": "code",
   "execution_count": null,
   "metadata": {},
   "outputs": [],
   "source": [
    "# time series data generator\n",
    "import numpy as np\n",
    "\n",
    "\n",
    "class TimeSeriesData():\n",
    "\n",
    "    def __init__(self, num_points, x_min, x_max):\n",
    "        self.x_min = x_min\n",
    "        self.x_max = x_max\n",
    "        self.num_points = num_points\n",
    "        self.resolution = (x_max - x_min) / num_points\n",
    "        self.x_data = np.linspace(x_min, x_max, num_points)\n",
    "        self.y_true = np.sin(self.x_data)\n",
    "    \n",
    "    def return_true(self, x_series):\n",
    "        return np.sin(x_series)\n",
    "    \n",
    "    def next_batch(self, batch_size, steps, return_batch_ts=False):\n",
    "        # random starting point for batch\n",
    "        random_start = np.random.rand(batch_size, 1)\n",
    "        \n",
    "        # put the random point on the time series\n",
    "        # Trick to convert any number into a point in the time series\n",
    "        ts_start = random_start * (self.x_max - self.x_min - (steps * self.resolution))\n",
    "        \n",
    "        # steps +1 because we are predicting just one time step ahead\n",
    "        batch_ts = ts_start+np.arange(0.0,steps+1) * self.resolution\n",
    "        \n",
    "        y_batch=np.sin(batch_ts)\n",
    "        \n",
    "        #Formatting for RNN\n",
    "        if return_batch_ts:\n",
    "            return y_batch[:,:-1].reshape(-1,steps,1) , y_batch[:,1:].reshape(-1,steps,1),\n",
    "                    batch_ts\n",
    "        else:\n",
    "            return y_batch[:,:-1].reshape(-1,steps,1) , y_batch[:,1:].reshape(-1,steps,1)\n",
    "                    # Returning the sequence shifted over one time step\n",
    "        "
   ]
  }
 ],
 "metadata": {
  "kernelspec": {
   "display_name": "rec_nn_sinus",
   "language": "python",
   "name": "rec_nn_sinus"
  },
  "language_info": {
   "codemirror_mode": {
    "name": "ipython",
    "version": 3
   },
   "file_extension": ".py",
   "mimetype": "text/x-python",
   "name": "python",
   "nbconvert_exporter": "python",
   "pygments_lexer": "ipython3",
   "version": "3.6.7"
  }
 },
 "nbformat": 4,
 "nbformat_minor": 2
}
